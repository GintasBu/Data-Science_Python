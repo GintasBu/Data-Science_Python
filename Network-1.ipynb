{
 "cells": [
  {
   "cell_type": "markdown",
   "metadata": {},
   "source": [
    "# Assignment 1 - Creating and Manipulating Graphs\n",
    "\n",
    "Eight employees at a small company were asked to choose 3 movies that they would most enjoy watching for the upcoming company movie night. These choices are stored in the file `Employee_Movie_Choices.txt`.\n",
    "\n",
    "A second file, `Employee_Relationships.txt`, has data on the relationships between different coworkers. \n",
    "\n",
    "The relationship score has value of `-100` (Enemies) to `+100` (Best Friends). A value of zero means the two employees haven't interacted or are indifferent.\n",
    "\n",
    "Both files are tab delimited."
   ]
  },
  {
   "cell_type": "code",
   "execution_count": 1,
   "metadata": {
    "collapsed": true
   },
   "outputs": [],
   "source": [
    "import networkx as nx\n",
    "import pandas as pd\n",
    "import numpy as np\n",
    "from networkx.algorithms import bipartite\n",
    "\n",
    "\n",
    "# This is the set of employees\n",
    "employees = set(['Pablo',\n",
    "                 'Lee',\n",
    "                 'Georgia',\n",
    "                 'Vincent',\n",
    "                 'Andy',\n",
    "                 'Frida',\n",
    "                 'Joan',\n",
    "                 'Claude'])\n",
    "\n",
    "# This is the set of movies\n",
    "movies = set(['The Shawshank Redemption',\n",
    "              'Forrest Gump',\n",
    "              'The Matrix',\n",
    "              'Anaconda',\n",
    "              'The Social Network',\n",
    "              'The Godfather',\n",
    "              'Monty Python and the Holy Grail',\n",
    "              'Snakes on a Plane',\n",
    "              'Kung Fu Panda',\n",
    "              'The Dark Knight',\n",
    "              'Mean Girls'])\n",
    "\n",
    "\n",
    "# you can use the following function to plot graphs\n",
    "# make sure to comment it out before submitting to the autograder\n",
    "def plot_graph(G, weight_name=None):\n",
    "    '''\n",
    "    G: a networkx G\n",
    "    weight_name: name of the attribute for plotting edge weights (if G is weighted)\n",
    "    '''\n",
    "    %matplotlib notebook\n",
    "    import matplotlib.pyplot as plt\n",
    "    \n",
    "    plt.figure()\n",
    "    pos = nx.spring_layout(G)\n",
    "    edges = G.edges()\n",
    "    weights = None\n",
    "    \n",
    "    if weight_name:\n",
    "        weights = [int(G[u][v][weight_name]) for u,v in edges]\n",
    "        labels = nx.get_edge_attributes(G,weight_name)\n",
    "        nx.draw_networkx_edge_labels(G,pos,edge_labels=labels)\n",
    "        nx.draw_networkx(G, pos, edges=edges, width=weights);\n",
    "    else:\n",
    "        nx.draw_networkx(G, pos, edges=edges);"
   ]
  },
  {
   "cell_type": "code",
   "execution_count": 2,
   "metadata": {},
   "outputs": [
    {
     "name": "stdout",
     "output_type": "stream",
     "text": [
      "Andy\tClaude\t0\n",
      "Andy\tFrida\t20\n",
      "Andy\tGeorgia\t-10\n",
      "Andy\tJoan\t30\n",
      "Andy\tLee\t-10\n",
      "Andy\tPablo\t-10\n",
      "Andy\tVincent\t20\n",
      "Claude\tFrida\t0\n",
      "Claude\tGeorgia\t90\n",
      "Claude\tJoan\t0\n",
      "Claude\tLee\t0\n",
      "Claude\tPablo\t10\n",
      "Claude\tVincent\t0\n",
      "Frida\tGeorgia\t0\n",
      "Frida\tJoan\t0\n",
      "Frida\tLee\t0\n",
      "Frida\tPablo\t50\n",
      "Frida\tVincent\t60\n",
      "Georgia\tJoan\t0\n",
      "Georgia\tLee\t10\n",
      "Georgia\tPablo\t0\n",
      "Georgia\tVincent\t0\n",
      "Joan\tLee\t70\n",
      "Joan\tPablo\t0\n",
      "Joan\tVincent\t10\n",
      "Lee\tPablo\t0\n",
      "Lee\tVincent\t0\n",
      "Pablo\tVincent\t-20\n"
     ]
    }
   ],
   "source": [
    "#!cat Employee_Relationships.txt"
   ]
  },
  {
   "cell_type": "code",
   "execution_count": 3,
   "metadata": {},
   "outputs": [
    {
     "name": "stdout",
     "output_type": "stream",
     "text": [
      "#Employee\tMovie\n",
      "Andy\tAnaconda\n",
      "Andy\tMean Girls\n",
      "Andy\tThe Matrix\n",
      "Claude\tAnaconda\n",
      "Claude\tMonty Python and the Holy Grail\n",
      "Claude\tSnakes on a Plane\n",
      "Frida\tThe Matrix\n",
      "Frida\tThe Shawshank Redemption\n",
      "Frida\tThe Social Network\n",
      "Georgia\tAnaconda\n",
      "Georgia\tMonty Python and the Holy Grail\n",
      "Georgia\tSnakes on a Plane\n",
      "Joan\tForrest Gump\n",
      "Joan\tKung Fu Panda\n",
      "Joan\tMean Girls\n",
      "Lee\tForrest Gump\n",
      "Lee\tKung Fu Panda\n",
      "Lee\tMean Girls\n",
      "Pablo\tThe Dark Knight\n",
      "Pablo\tThe Matrix\n",
      "Pablo\tThe Shawshank Redemption\n",
      "Vincent\tThe Godfather\n",
      "Vincent\tThe Shawshank Redemption\n",
      "Vincent\tThe Social Network\n"
     ]
    }
   ],
   "source": [
    "#!cat Employee_Movie_Choices.txt"
   ]
  },
  {
   "cell_type": "markdown",
   "metadata": {},
   "source": [
    "### Question 1\n",
    "\n",
    "Using NetworkX, load in the bipartite graph from `Employee_Movie_Choices.txt` and return that graph.\n",
    "\n",
    "*This function should return a networkx graph with 19 nodes and 24 edges*"
   ]
  },
  {
   "cell_type": "code",
   "execution_count": 61,
   "metadata": {
    "collapsed": true
   },
   "outputs": [],
   "source": [
    "def answer_one():\n",
    "\n",
    "    G_df = pd.read_csv('Employee_Movie_Choices.txt', sep='\\t', skiprows=1,\n",
    "                   names=['Employee', 'Movie'])\n",
    "    G5 = nx.from_pandas_dataframe(G_df, 'Employee', 'Movie') \n",
    "    return G5"
   ]
  },
  {
   "cell_type": "code",
   "execution_count": 62,
   "metadata": {},
   "outputs": [
    {
     "data": {
      "text/plain": [
       "[('Andy', 'Anaconda'),\n",
       " ('Andy', 'Mean Girls'),\n",
       " ('Andy', 'The Matrix'),\n",
       " ('Anaconda', 'Claude'),\n",
       " ('Anaconda', 'Georgia'),\n",
       " ('Mean Girls', 'Joan'),\n",
       " ('Mean Girls', 'Lee'),\n",
       " ('The Matrix', 'Frida'),\n",
       " ('The Matrix', 'Pablo'),\n",
       " ('Claude', 'Monty Python and the Holy Grail'),\n",
       " ('Claude', 'Snakes on a Plane'),\n",
       " ('Monty Python and the Holy Grail', 'Georgia'),\n",
       " ('Snakes on a Plane', 'Georgia'),\n",
       " ('Frida', 'The Shawshank Redemption'),\n",
       " ('Frida', 'The Social Network'),\n",
       " ('The Shawshank Redemption', 'Pablo'),\n",
       " ('The Shawshank Redemption', 'Vincent'),\n",
       " ('The Social Network', 'Vincent'),\n",
       " ('Joan', 'Forrest Gump'),\n",
       " ('Joan', 'Kung Fu Panda'),\n",
       " ('Forrest Gump', 'Lee'),\n",
       " ('Kung Fu Panda', 'Lee'),\n",
       " ('Pablo', 'The Dark Knight'),\n",
       " ('Vincent', 'The Godfather')]"
      ]
     },
     "execution_count": 62,
     "metadata": {},
     "output_type": "execute_result"
    }
   ],
   "source": [
    "#G=answer_one()\n",
    "#G.edges()"
   ]
  },
  {
   "cell_type": "markdown",
   "metadata": {},
   "source": [
    "### Question 2\n",
    "\n",
    "Using the graph from the previous question, add nodes attributes named `'type'` where movies have the value `'movie'` and employees have the value `'employee'` and return that graph.\n",
    "\n",
    "*This function should return a networkx graph with node attributes `{'type': 'movie'}` or `{'type': 'employee'}`*"
   ]
  },
  {
   "cell_type": "code",
   "execution_count": 54,
   "metadata": {
    "collapsed": true
   },
   "outputs": [],
   "source": [
    "def answer_two():\n",
    "    G=answer_one()\n",
    "    #G_df = pd.read_csv('Employee_Movie_Choices.txt', sep='\\t', skiprows=1, names=['Employee', 'Movie'])\n",
    "    for node in G.nodes():\n",
    "        if node in employees:\n",
    "            G.add_node(node, type='employee')\n",
    "        else: G.add_node(node, type='movie')\n",
    "    return G"
   ]
  },
  {
   "cell_type": "markdown",
   "metadata": {
    "collapsed": true
   },
   "source": [
    "### Question 3\n",
    "\n",
    "Find a weighted projection of the graph from `answer_two` which tells us how many movies different pairs of employees have in common.\n",
    "\n",
    "*This function should return a weighted projected graph.*"
   ]
  },
  {
   "cell_type": "code",
   "execution_count": null,
   "metadata": {
    "collapsed": true
   },
   "outputs": [],
   "source": [
    "def answer_three():\n",
    "        \n",
    "    G=answer_two()\n",
    "    P=bipartite.weighted_projected_graph(G, employees)\n",
    "    return P"
   ]
  },
  {
   "cell_type": "markdown",
   "metadata": {
    "collapsed": true
   },
   "source": [
    "### Question 4\n",
    "\n",
    "Suppose you'd like to find out if people that have a high relationship score also like the same types of movies.\n",
    "\n",
    "Find the Pearson correlation ( using `DataFrame.corr()` ) between employee relationship scores and the number of movies they have in common. If two employees have no movies in common it should be treated as a 0, not a missing value, and should be included in the correlation calculation.\n",
    "\n",
    "*This function should return a float.*"
   ]
  },
  {
   "cell_type": "code",
   "execution_count": 105,
   "metadata": {
    "collapsed": true
   },
   "outputs": [],
   "source": [
    "def answer_four():\n",
    "    G=answer_two()\n",
    "    P=bipartite.weighted_projected_graph(G, employees)   \n",
    "    Plist=[]\n",
    "    for edge in P.edges(data=True):\n",
    "        if edge[0]<edge[1]:\n",
    "            Plist.append(((edge[0], edge[1]), edge[2]['weight']))\n",
    "        else: Plist.append(((edge[1], edge[0]), edge[2]['weight']))# Your Code Here\n",
    "    dfdf=pd.DataFrame(Plist, columns=['pairs','score'])\n",
    "    dfdf.set_index('pairs', inplace=True)\n",
    "    rel_df = pd.read_csv('Employee_Relationships.txt', sep='\\t', skiprows=1,\n",
    "                   names=['E1', 'E2', 'rel_score'])\n",
    "    rel_df['pairs']=rel_df.apply(lambda x: (x[0], x[1]), axis=1)\n",
    "    del rel_df['E1']\n",
    "    del rel_df['E2']\n",
    "    rel_df.set_index('pairs', inplace=True)\n",
    "    df=rel_df.merge(dfdf, how='outer', left_index=True, right_index=True)\n",
    "    df.fillna(value=0, inplace=True)\n",
    "    return df.corr()['rel_score']['score']"
   ]
  },
  {
   "cell_type": "code",
   "execution_count": 106,
   "metadata": {},
   "outputs": [
    {
     "data": {
      "text/plain": [
       "0.78839622217334759"
      ]
     },
     "execution_count": 106,
     "metadata": {},
     "output_type": "execute_result"
    }
   ],
   "source": [
    "answer_four()"
   ]
  },
  {
   "cell_type": "code",
   "execution_count": null,
   "metadata": {
    "collapsed": true
   },
   "outputs": [],
   "source": []
  }
 ],
 "metadata": {
  "coursera": {
   "course_slug": "python-social-network-analysis",
   "graded_item_id": "YNa9b",
   "launcher_item_id": "hvNc1",
   "part_id": "VbyiB"
  },
  "hide_input": false,
  "kernelspec": {
   "display_name": "Python [default]",
   "language": "python",
   "name": "python3"
  },
  "language_info": {
   "codemirror_mode": {
    "name": "ipython",
    "version": 3
   },
   "file_extension": ".py",
   "mimetype": "text/x-python",
   "name": "python",
   "nbconvert_exporter": "python",
   "pygments_lexer": "ipython3",
   "version": "3.6.1"
  }
 },
 "nbformat": 4,
 "nbformat_minor": 2
}
