{
 "cells": [
  {
   "cell_type": "markdown",
   "metadata": {},
   "source": [
    "# Assignment 3 - Evaluation\n",
    "\n",
    "In this assignment you will train several models and evaluate how effectively they predict instances of fraud using data based on [this dataset from Kaggle](https://www.kaggle.com/dalpozz/creditcardfraud).\n",
    " \n",
    "Each row in `fraud_data.csv` corresponds to a credit card transaction. Features include confidential variables `V1` through `V28` as well as `Amount` which is the amount of the transaction. \n",
    " \n",
    "The target is stored in the `class` column, where a value of 1 corresponds to an instance of fraud and 0 corresponds to an instance of not fraud."
   ]
  },
  {
   "cell_type": "code",
   "execution_count": 3,
   "metadata": {
    "collapsed": true
   },
   "outputs": [],
   "source": [
    "import numpy as np\n",
    "import pandas as pd"
   ]
  },
  {
   "cell_type": "markdown",
   "metadata": {},
   "source": [
    "### Question 1\n",
    "Import the data from `fraud_data.csv`. What percentage of the observations in the dataset are instances of fraud?\n",
    "\n",
    "*This function should return a float between 0 and 1.* "
   ]
  },
  {
   "cell_type": "code",
   "execution_count": null,
   "metadata": {
    "collapsed": true
   },
   "outputs": [],
   "source": [
    "def answer_one():\n",
    "    \n",
    "    fr_data=pd.read_csv('fraud_data.csv')\n",
    "\n",
    "    return fr_data['Class'].loc[fr_data['Class']==1].shape[0]/fr_data['Class'].loc[fr_data['Class']==0].shape[0]\n"
   ]
  },
  {
   "cell_type": "code",
   "execution_count": 4,
   "metadata": {
    "collapsed": true
   },
   "outputs": [],
   "source": [
    "# Use X_train, X_test, y_train, y_test for all of the following questions\n",
    "from sklearn.model_selection import train_test_split\n",
    "\n",
    "df = pd.read_csv('fraud_data.csv')\n",
    "df.head()\n",
    "X = df.iloc[:,:-1]\n",
    "y = df.iloc[:,-1]\n",
    "\n",
    "X_train, X_test, y_train, y_test = train_test_split(X, y, random_state=0)"
   ]
  },
  {
   "cell_type": "code",
   "execution_count": 11,
   "metadata": {},
   "outputs": [
    {
     "data": {
      "text/html": [
       "<div>\n",
       "<style>\n",
       "    .dataframe thead tr:only-child th {\n",
       "        text-align: right;\n",
       "    }\n",
       "\n",
       "    .dataframe thead th {\n",
       "        text-align: left;\n",
       "    }\n",
       "\n",
       "    .dataframe tbody tr th {\n",
       "        vertical-align: top;\n",
       "    }\n",
       "</style>\n",
       "<table border=\"1\" class=\"dataframe\">\n",
       "  <thead>\n",
       "    <tr style=\"text-align: right;\">\n",
       "      <th></th>\n",
       "      <th>V1</th>\n",
       "      <th>V2</th>\n",
       "      <th>V3</th>\n",
       "      <th>V4</th>\n",
       "      <th>V5</th>\n",
       "      <th>V6</th>\n",
       "      <th>V7</th>\n",
       "      <th>V8</th>\n",
       "      <th>V9</th>\n",
       "      <th>V10</th>\n",
       "      <th>...</th>\n",
       "      <th>V20</th>\n",
       "      <th>V21</th>\n",
       "      <th>V22</th>\n",
       "      <th>V23</th>\n",
       "      <th>V24</th>\n",
       "      <th>V25</th>\n",
       "      <th>V26</th>\n",
       "      <th>V27</th>\n",
       "      <th>V28</th>\n",
       "      <th>Amount</th>\n",
       "    </tr>\n",
       "  </thead>\n",
       "  <tbody>\n",
       "    <tr>\n",
       "      <th>16629</th>\n",
       "      <td>0.866892</td>\n",
       "      <td>-0.899856</td>\n",
       "      <td>0.971690</td>\n",
       "      <td>0.131152</td>\n",
       "      <td>-0.931563</td>\n",
       "      <td>0.906297</td>\n",
       "      <td>-0.806258</td>\n",
       "      <td>0.485835</td>\n",
       "      <td>1.017235</td>\n",
       "      <td>-0.405591</td>\n",
       "      <td>...</td>\n",
       "      <td>0.055604</td>\n",
       "      <td>-0.066068</td>\n",
       "      <td>-0.177038</td>\n",
       "      <td>0.038159</td>\n",
       "      <td>-0.211134</td>\n",
       "      <td>-0.102590</td>\n",
       "      <td>0.974237</td>\n",
       "      <td>-0.029268</td>\n",
       "      <td>0.015414</td>\n",
       "      <td>119.21</td>\n",
       "    </tr>\n",
       "    <tr>\n",
       "      <th>19225</th>\n",
       "      <td>-2.443959</td>\n",
       "      <td>-3.320793</td>\n",
       "      <td>1.038459</td>\n",
       "      <td>-0.593688</td>\n",
       "      <td>-3.925352</td>\n",
       "      <td>2.008374</td>\n",
       "      <td>2.053072</td>\n",
       "      <td>-0.378888</td>\n",
       "      <td>-2.196404</td>\n",
       "      <td>0.585541</td>\n",
       "      <td>...</td>\n",
       "      <td>0.206560</td>\n",
       "      <td>-0.285980</td>\n",
       "      <td>-0.172471</td>\n",
       "      <td>0.600713</td>\n",
       "      <td>0.056783</td>\n",
       "      <td>0.298285</td>\n",
       "      <td>-0.050735</td>\n",
       "      <td>0.385018</td>\n",
       "      <td>0.031201</td>\n",
       "      <td>992.42</td>\n",
       "    </tr>\n",
       "    <tr>\n",
       "      <th>8754</th>\n",
       "      <td>2.066008</td>\n",
       "      <td>0.212734</td>\n",
       "      <td>-1.676676</td>\n",
       "      <td>0.407158</td>\n",
       "      <td>0.510979</td>\n",
       "      <td>-0.790015</td>\n",
       "      <td>0.228000</td>\n",
       "      <td>-0.259960</td>\n",
       "      <td>0.363376</td>\n",
       "      <td>-0.411215</td>\n",
       "      <td>...</td>\n",
       "      <td>-0.109995</td>\n",
       "      <td>-0.347788</td>\n",
       "      <td>-0.847449</td>\n",
       "      <td>0.339762</td>\n",
       "      <td>0.531585</td>\n",
       "      <td>-0.247659</td>\n",
       "      <td>0.172542</td>\n",
       "      <td>-0.053897</td>\n",
       "      <td>-0.029045</td>\n",
       "      <td>1.29</td>\n",
       "    </tr>\n",
       "    <tr>\n",
       "      <th>1524</th>\n",
       "      <td>2.071216</td>\n",
       "      <td>-0.956856</td>\n",
       "      <td>-0.889735</td>\n",
       "      <td>-0.524264</td>\n",
       "      <td>-0.776255</td>\n",
       "      <td>-0.324803</td>\n",
       "      <td>-0.731801</td>\n",
       "      <td>-0.041067</td>\n",
       "      <td>-0.342191</td>\n",
       "      <td>1.021587</td>\n",
       "      <td>...</td>\n",
       "      <td>-0.540049</td>\n",
       "      <td>-0.330418</td>\n",
       "      <td>-0.440544</td>\n",
       "      <td>0.205605</td>\n",
       "      <td>-0.502165</td>\n",
       "      <td>-0.365702</td>\n",
       "      <td>0.566753</td>\n",
       "      <td>-0.044129</td>\n",
       "      <td>-0.061905</td>\n",
       "      <td>39.80</td>\n",
       "    </tr>\n",
       "    <tr>\n",
       "      <th>4330</th>\n",
       "      <td>-1.440668</td>\n",
       "      <td>0.041710</td>\n",
       "      <td>0.610007</td>\n",
       "      <td>-2.820097</td>\n",
       "      <td>-1.664394</td>\n",
       "      <td>-0.877558</td>\n",
       "      <td>-0.884012</td>\n",
       "      <td>0.786296</td>\n",
       "      <td>-1.961644</td>\n",
       "      <td>0.528843</td>\n",
       "      <td>...</td>\n",
       "      <td>-0.308033</td>\n",
       "      <td>-0.319893</td>\n",
       "      <td>-0.610358</td>\n",
       "      <td>0.215085</td>\n",
       "      <td>-0.015094</td>\n",
       "      <td>-0.377717</td>\n",
       "      <td>-0.573045</td>\n",
       "      <td>0.309037</td>\n",
       "      <td>0.067352</td>\n",
       "      <td>42.46</td>\n",
       "    </tr>\n",
       "  </tbody>\n",
       "</table>\n",
       "<p>5 rows × 29 columns</p>\n",
       "</div>"
      ],
      "text/plain": [
       "             V1        V2        V3        V4        V5        V6        V7  \\\n",
       "16629  0.866892 -0.899856  0.971690  0.131152 -0.931563  0.906297 -0.806258   \n",
       "19225 -2.443959 -3.320793  1.038459 -0.593688 -3.925352  2.008374  2.053072   \n",
       "8754   2.066008  0.212734 -1.676676  0.407158  0.510979 -0.790015  0.228000   \n",
       "1524   2.071216 -0.956856 -0.889735 -0.524264 -0.776255 -0.324803 -0.731801   \n",
       "4330  -1.440668  0.041710  0.610007 -2.820097 -1.664394 -0.877558 -0.884012   \n",
       "\n",
       "             V8        V9       V10   ...         V20       V21       V22  \\\n",
       "16629  0.485835  1.017235 -0.405591   ...    0.055604 -0.066068 -0.177038   \n",
       "19225 -0.378888 -2.196404  0.585541   ...    0.206560 -0.285980 -0.172471   \n",
       "8754  -0.259960  0.363376 -0.411215   ...   -0.109995 -0.347788 -0.847449   \n",
       "1524  -0.041067 -0.342191  1.021587   ...   -0.540049 -0.330418 -0.440544   \n",
       "4330   0.786296 -1.961644  0.528843   ...   -0.308033 -0.319893 -0.610358   \n",
       "\n",
       "            V23       V24       V25       V26       V27       V28  Amount  \n",
       "16629  0.038159 -0.211134 -0.102590  0.974237 -0.029268  0.015414  119.21  \n",
       "19225  0.600713  0.056783  0.298285 -0.050735  0.385018  0.031201  992.42  \n",
       "8754   0.339762  0.531585 -0.247659  0.172542 -0.053897 -0.029045    1.29  \n",
       "1524   0.205605 -0.502165 -0.365702  0.566753 -0.044129 -0.061905   39.80  \n",
       "4330   0.215085 -0.015094 -0.377717 -0.573045  0.309037  0.067352   42.46  \n",
       "\n",
       "[5 rows x 29 columns]"
      ]
     },
     "execution_count": 11,
     "metadata": {},
     "output_type": "execute_result"
    }
   ],
   "source": [
    "X_test.head()"
   ]
  },
  {
   "cell_type": "markdown",
   "metadata": {},
   "source": [
    "### Question 2\n",
    "\n",
    "Using `X_train`, `X_test`, `y_train`, and `y_test` (as defined above), train a dummy classifier that classifies everything as the majority class of the training data. What is the accuracy of this classifier? What is the recall?\n",
    "\n",
    "*This function should a return a tuple with two floats, i.e. `(accuracy score, recall score)`.*"
   ]
  },
  {
   "cell_type": "code",
   "execution_count": 40,
   "metadata": {
    "collapsed": true
   },
   "outputs": [],
   "source": [
    "def answer_two():\n",
    "    from sklearn.dummy import DummyClassifier\n",
    "    from sklearn.metrics import recall_score\n",
    "\n",
    "    dummy_majority=DummyClassifier(strategy='most_frequent').fit(X_train, y_train)\n",
    "    y_pred=dummy_majority.predict(X_test)\n",
    "    recall=recall_score(y_test, y_pred)\n",
    "    accur=dummy_majority.score(X_test, y_test)\n",
    "    \n",
    "    return (accur, recall)"
   ]
  },
  {
   "cell_type": "markdown",
   "metadata": {},
   "source": [
    "### Question 3\n",
    "\n",
    "Using X_train, X_test, y_train, y_test (as defined above), train a SVC classifer using the default parameters. What is the accuracy, recall, and precision of this classifier?\n",
    "\n",
    "*This function should a return a tuple with three floats, i.e. `(accuracy score, recall score, precision score)`.*"
   ]
  },
  {
   "cell_type": "code",
   "execution_count": 42,
   "metadata": {
    "collapsed": true
   },
   "outputs": [],
   "source": [
    "def answer_three():\n",
    "    from sklearn.metrics import recall_score, precision_score\n",
    "    from sklearn.svm import SVC\n",
    "\n",
    "    svc=SVC().fit(X_train, y_train)\n",
    "    y_pred=svc.predict(X_test)\n",
    "    recall=recall_score(y_test, y_pred)\n",
    "    accur=svc.score(X_test, y_test)\n",
    "    prec=precision_score(y_test, y_pred)\n",
    "   \n",
    "    return (accur, recall, prec)"
   ]
  },
  {
   "cell_type": "markdown",
   "metadata": {},
   "source": [
    "### Question 4\n",
    "\n",
    "Using the SVC classifier with parameters `{'C': 1e9, 'gamma': 1e-07}`, what is the confusion matrix when using a threshold of -220 on the decision function. Use X_test and y_test.\n",
    "\n",
    "*This function should return a confusion matrix, a 2x2 numpy array with 4 integers.*"
   ]
  },
  {
   "cell_type": "code",
   "execution_count": 64,
   "metadata": {
    "collapsed": true
   },
   "outputs": [],
   "source": [
    "def answer_four():\n",
    "    from sklearn.metrics import confusion_matrix\n",
    "    from sklearn.svm import SVC\n",
    "\n",
    "    svc=SVC(C=1e9, gamma=1e-07).fit(X_train, y_train)\n",
    "\n",
    "    y_pred=svc.predict(X_test)\n",
    "    y_df=svc.decision_function(X_test)\n",
    "    ydf=pd.Series(y_df)\n",
    "    y2=pd.Series([0]*ydf.shape[0])\n",
    "    y2.loc[ydf>-220]=1\n",
    "\n",
    "    return confusion_matrix(y_test, y2)"
   ]
  },
  {
   "cell_type": "markdown",
   "metadata": {},
   "source": [
    "### Question 5\n",
    "\n",
    "Train a logisitic regression classifier with default parameters using X_train and y_train.\n",
    "\n",
    "For the logisitic regression classifier, create a precision recall curve and a roc curve using y_test and the probability estimates for X_test (probability it is fraud).\n",
    "\n",
    "Looking at the precision recall curve, what is the recall when the precision is `0.75`?\n",
    "\n",
    "Looking at the roc curve, what is the true positive rate when the false positive rate is `0.16`?\n",
    "\n",
    "*This function should return a tuple with two floats, i.e. `(recall, true positive rate)`.*"
   ]
  },
  {
   "cell_type": "code",
   "execution_count": 93,
   "metadata": {
    "collapsed": true
   },
   "outputs": [],
   "source": [
    "def answer_five():\n",
    "    from sklearn.metrics import roc_curve\n",
    "    from sklearn.metrics import precision_recall_curve\n",
    "    from sklearn.linear_model import LogisticRegression\n",
    "    lr=LogisticRegression().fit(X_train, y_train)\n",
    "    y=lr.decision_function(X_test)\n",
    "    precision, recall, thresholds = precision_recall_curve(y_test, y)\n",
    "    p075=np.argmin(abs(precision-0.75))\n",
    "    fpr, tpr, thresholds =roc_curve(y_test, y)\n",
    "    fpr016=np.argmin(abs(fpr-0.16))\n",
    "    fpr016=np.argmin(abs(fpr-0.16))\n",
    "    return (recall[p075], tpr[fpr016])"
   ]
  },
  {
   "cell_type": "markdown",
   "metadata": {},
   "source": [
    "### Question 6\n",
    "\n",
    "Perform a grid search over the parameters listed below for a Logisitic Regression classifier, using recall for scoring and the default 3-fold cross validation.\n",
    "\n",
    "`'penalty': ['l1', 'l2']`\n",
    "\n",
    "`'C':[0.01, 0.1, 1, 10, 100]`\n",
    "\n",
    "From `.cv_results_`, create an array of the mean test scores of each parameter combination. i.e.\n",
    "\n",
    "|      \t| `l1` \t| `l2` \t|\n",
    "|:----:\t|----\t|----\t|\n",
    "| **`0.01`** \t|    ?\t|   ? \t|\n",
    "| **`0.1`**  \t|    ?\t|   ? \t|\n",
    "| **`1`**    \t|    ?\t|   ? \t|\n",
    "| **`10`**   \t|    ?\t|   ? \t|\n",
    "| **`100`**   \t|    ?\t|   ? \t|\n",
    "\n",
    "<br>\n",
    "\n",
    "*This function should return a 5 by 2 numpy array with 10 floats.* \n",
    "\n",
    "*Note: do not return a DataFrame, just the values denoted by '?' above in a numpy array.*"
   ]
  },
  {
   "cell_type": "code",
   "execution_count": 8,
   "metadata": {
    "collapsed": true
   },
   "outputs": [],
   "source": [
    "def answer_six():    \n",
    "    from sklearn.model_selection import GridSearchCV\n",
    "    from sklearn.linear_model import LogisticRegression\n",
    "    param={'C':[0.01,0.1,1,10,100], 'penalty': ['l1', 'l2']}\n",
    "    lr=LogisticRegression()\n",
    "    grid_clf = GridSearchCV(lr, param_grid = param, scoring='recall')\n",
    "    grid_clf=grid_clf.fit(X_train, y_train)\n",
    "      \n",
    "    return grid_clf.cv_results_['mean_test_score'].reshape(5,2)"
   ]
  },
  {
   "cell_type": "code",
   "execution_count": 9,
   "metadata": {},
   "outputs": [
    {
     "data": {
      "text/plain": [
       "array([[ 0.66666667,  0.76086957],\n",
       "       [ 0.80072464,  0.80434783],\n",
       "       [ 0.8115942 ,  0.8115942 ],\n",
       "       [ 0.80797101,  0.8115942 ],\n",
       "       [ 0.80797101,  0.80797101]])"
      ]
     },
     "execution_count": 9,
     "metadata": {},
     "output_type": "execute_result"
    }
   ],
   "source": [
    "answer_six()"
   ]
  },
  {
   "cell_type": "code",
   "execution_count": 10,
   "metadata": {
    "collapsed": true
   },
   "outputs": [],
   "source": [
    "# Use the following function to help visualize results from the grid search\n",
    "def GridSearch_Heatmap(scores):\n",
    "    %matplotlib notebook\n",
    "    import seaborn as sns\n",
    "    import matplotlib.pyplot as plt\n",
    "    plt.figure()\n",
    "    sns.heatmap(scores.reshape(5,2), xticklabels=['l1','l2'], yticklabels=[0.01, 0.1, 1, 10, 100])\n",
    "    plt.yticks(rotation=0);\n",
    "\n",
    "#GridSearch_Heatmap(answer_six())"
   ]
  },
  {
   "cell_type": "code",
   "execution_count": null,
   "metadata": {
    "collapsed": true
   },
   "outputs": [],
   "source": []
  }
 ],
 "metadata": {
  "coursera": {
   "course_slug": "python-machine-learning",
   "graded_item_id": "5yX9Z",
   "launcher_item_id": "eqnV3",
   "part_id": "Msnj0"
  },
  "hide_input": false,
  "kernelspec": {
   "display_name": "Python [default]",
   "language": "python",
   "name": "python3"
  },
  "language_info": {
   "codemirror_mode": {
    "name": "ipython",
    "version": 3
   },
   "file_extension": ".py",
   "mimetype": "text/x-python",
   "name": "python",
   "nbconvert_exporter": "python",
   "pygments_lexer": "ipython3",
   "version": "3.6.1"
  }
 },
 "nbformat": 4,
 "nbformat_minor": 2
}
